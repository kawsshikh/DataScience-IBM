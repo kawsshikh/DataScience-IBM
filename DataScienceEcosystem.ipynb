{
 "cells": [
  {
   "cell_type": "markdown",
   "id": "c8795a94-ea32-4b5d-ab5e-e302f4668030",
   "metadata": {},
   "source": [
    "# Data Science Tools and Ecosystem"
   ]
  },
  {
   "cell_type": "markdown",
   "id": "2d8e0247-aa05-45e2-b7a2-c4445627fe5c",
   "metadata": {},
   "source": [
    "In this notebook, Data Science Tools and Ecosystem are summarized."
   ]
  },
  {
   "cell_type": "markdown",
   "id": "3ae6fd1a-b246-4479-990a-1c419c675c4b",
   "metadata": {},
   "source": [
    " **Objectives:**\n",
    "<ul> \n",
    "    <li> List popular languages for Data Science</li>\n",
    "    <li>  List common libraries in Data Sciecne</li>\n",
    "    <li> Perform Arithematic expressions</li>\n",
    "</ul>\n"
   ]
  },
  {
   "cell_type": "markdown",
   "id": "3f67365a-7a40-4219-904f-65c18be78cf0",
   "metadata": {},
   "source": [
    "Some of the popular languages that Data Scientists use are:\n",
    "<ol> \n",
    "    <li> python</li>\n",
    "    <li> R </li>\n",
    "    <li> SQL</li>\n",
    "</ol>"
   ]
  },
  {
   "cell_type": "markdown",
   "id": "cd6d8160-0734-4866-bcf7-34d75e839e46",
   "metadata": {},
   "source": [
    "Some of the commonly used libraries used by Data Scientists include:\n",
    "<ol> \n",
    "    <li> numpy</li>\n",
    "    <li> pandas </li>\n",
    "    <li> keras</li>\n",
    "</ol>"
   ]
  },
  {
   "cell_type": "markdown",
   "id": "4d0c871c-de68-4a0e-a56e-eba54b31a58c",
   "metadata": {},
   "source": [
    "| Data Science Tools |\r\n",
    "|-------------------|\r\n",
    "| Jupyter Notebook  |\r\n",
    "| RStudio           |\r\n",
    "| VS Code with Python extension |"
   ]
  },
  {
   "cell_type": "markdown",
   "id": "3303f155-9d61-4fb2-8d68-8ef24db7dd71",
   "metadata": {},
   "source": [
    "### Below are a few examples of evaluating arithmetic expressions in Python.\n"
   ]
  },
  {
   "cell_type": "code",
   "execution_count": 3,
   "id": "4427eaaf-0510-4aa6-b929-384f12a87435",
   "metadata": {},
   "outputs": [
    {
     "data": {
      "text/plain": [
       "17"
      ]
     },
     "execution_count": 3,
     "metadata": {},
     "output_type": "execute_result"
    }
   ],
   "source": [
    "(3*4)+5"
   ]
  },
  {
   "cell_type": "code",
   "execution_count": 2,
   "id": "7ec7c50f-2bdf-4f0f-97ef-3e7b824b2aa5",
   "metadata": {
    "scrolled": true
   },
   "outputs": [
    {
     "data": {
      "text/plain": [
       "3.3333333333333335"
      ]
     },
     "execution_count": 2,
     "metadata": {},
     "output_type": "execute_result"
    }
   ],
   "source": [
    "200/60"
   ]
  },
  {
   "cell_type": "markdown",
   "id": "ea4a3bf2-1184-405a-acb0-37b4ec3254ac",
   "metadata": {},
   "source": [
    "## Author"
   ]
  },
  {
   "cell_type": "markdown",
   "id": "61281813-20ab-4457-aa06-a7ea52eb392d",
   "metadata": {},
   "source": [
    "Kawsshikh Sajjana Gandla"
   ]
  }
 ],
 "metadata": {
  "kernelspec": {
   "display_name": "Python 3 (ipykernel)",
   "language": "python",
   "name": "python3"
  },
  "language_info": {
   "codemirror_mode": {
    "name": "ipython",
    "version": 3
   },
   "file_extension": ".py",
   "mimetype": "text/x-python",
   "name": "python",
   "nbconvert_exporter": "python",
   "pygments_lexer": "ipython3",
   "version": "3.11.7"
  }
 },
 "nbformat": 4,
 "nbformat_minor": 5
}
